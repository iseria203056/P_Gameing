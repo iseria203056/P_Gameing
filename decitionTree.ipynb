{
 "cells": [
  {
   "cell_type": "code",
   "execution_count": 1,
   "metadata": {},
   "outputs": [],
   "source": [
    "import pandas\n",
    "import numpy as np\n",
    "from sklearn import tree\n",
    "from sklearn.tree import DecisionTreeClassifier\n",
    "import matplotlib.pyplot as plt\n",
    "import matplotlib.image as pltimg\n",
    "import pydotplus \n",
    "from IPython.display import Image\n",
    "from sklearn import metrics\n",
    "import graphviz \n",
    "from sklearn.datasets import load_iris"
   ]
  },
  {
   "cell_type": "code",
   "execution_count": 2,
   "metadata": {
    "scrolled": false
   },
   "outputs": [
    {
     "name": "stdout",
     "output_type": "stream",
     "text": [
      "<class 'pandas.core.frame.DataFrame'>\n",
      "RangeIndex: 309 entries, 0 to 308\n",
      "Data columns (total 7 columns):\n",
      "63.03    309 non-null float64\n",
      "22.55    309 non-null float64\n",
      "39.61    309 non-null float64\n",
      "40.48    309 non-null float64\n",
      "98.67    309 non-null float64\n",
      "-0.25    309 non-null float64\n",
      "DH       309 non-null object\n",
      "dtypes: float64(6), object(1)\n",
      "memory usage: 17.0+ KB\n"
     ]
    }
   ],
   "source": [
    "df=pandas.read_csv(\"column_3C.dat\",sep=' ',header=0)\n",
    "df.info()"
   ]
  },
  {
   "cell_type": "code",
   "execution_count": 3,
   "metadata": {},
   "outputs": [
    {
     "name": "stdout",
     "output_type": "stream",
     "text": [
      "     pelvic_incidence  pelvic_tilt  lumbar_lordosis_angle  sacral_slope  \\\n",
      "0               39.06        10.06                  25.02         29.00   \n",
      "1               68.83        22.22                  50.09         46.61   \n",
      "2               69.30        24.65                  44.31         44.64   \n",
      "3               49.71         9.65                  28.32         40.06   \n",
      "4               40.25        13.92                  25.12         26.33   \n",
      "..                ...          ...                    ...           ...   \n",
      "304             47.90        13.62                  36.00         34.29   \n",
      "305             53.94        20.72                  29.22         33.22   \n",
      "306             61.45        22.69                  46.17         38.75   \n",
      "307             45.25         8.69                  41.58         36.56   \n",
      "308             33.84         5.07                  36.64         28.77   \n",
      "\n",
      "     pelvic_radius  degree_spondylolisthesis class  \n",
      "0           114.41                      4.56    DH  \n",
      "1           105.99                     -3.53    DH  \n",
      "2           101.87                     11.21    DH  \n",
      "3           108.17                      7.92    DH  \n",
      "4           130.33                      2.23    DH  \n",
      "..             ...                       ...   ...  \n",
      "304         117.45                     -4.25    NO  \n",
      "305         114.37                     -0.42    NO  \n",
      "306         125.67                     -2.71    NO  \n",
      "307         118.55                      0.21    NO  \n",
      "308         123.95                     -0.20    NO  \n",
      "\n",
      "[309 rows x 7 columns]\n"
     ]
    }
   ],
   "source": [
    "df.columns=['pelvic_incidence','pelvic_tilt','lumbar_lordosis_angle','sacral_slope','pelvic_radius','degree_spondylolisthesis','class']"
   ]
  },
  {
   "cell_type": "code",
   "execution_count": 4,
   "metadata": {
    "scrolled": true
   },
   "outputs": [
    {
     "name": "stdout",
     "output_type": "stream",
     "text": [
      "     pelvic_incidence  pelvic_tilt  lumbar_lordosis_angle  sacral_slope  \\\n",
      "110             85.00        29.61                  83.35         55.39   \n",
      "214             30.74        13.35                  35.90         17.39   \n",
      "211             44.36         8.95                  46.90         35.42   \n",
      "156             44.22         1.51                  46.11         42.71   \n",
      "73              72.22        23.08                  91.00         49.14   \n",
      "..                ...          ...                    ...           ...   \n",
      "247             47.32         8.57                  35.56         38.75   \n",
      "75              86.75        36.04                  69.22         50.71   \n",
      "172             50.83         9.06                  56.30         41.76   \n",
      "199             63.36        20.02                  67.50         43.34   \n",
      "82              81.10        24.79                  77.89         56.31   \n",
      "\n",
      "     pelvic_radius  degree_spondylolisthesis class  \n",
      "110         126.91                     71.32    SL  \n",
      "214         142.41                     -2.01    NO  \n",
      "211         129.22                      4.99    NO  \n",
      "156         108.63                     42.81    SL  \n",
      "73          137.74                     56.80    SL  \n",
      "..             ...                       ...   ...  \n",
      "247         120.58                      1.63    NO  \n",
      "75          139.41                    110.86    SL  \n",
      "172          79.00                     23.04    SL  \n",
      "199         131.00                     37.56    SL  \n",
      "82          151.84                     65.21    SL  \n",
      "\n",
      "[309 rows x 7 columns]\n"
     ]
    }
   ],
   "source": [
    "df=df.sample(frac=1)\n",
    "print(df)"
   ]
  },
  {
   "cell_type": "code",
   "execution_count": 24,
   "metadata": {
    "scrolled": false
   },
   "outputs": [
    {
     "data": {
      "text/plain": [
       "SL    45\n",
       "NO    32\n",
       "DH    15\n",
       "Name: class, dtype: int64"
      ]
     },
     "execution_count": 24,
     "metadata": {},
     "output_type": "execute_result"
    }
   ],
   "source": [
    "testSet,evaluateSet=np.split(df,[int(.3*len(df.index))])\n",
    "#print(testSet)\n",
    "#print(evaluateSet)"
   ]
  },
  {
   "cell_type": "code",
   "execution_count": 7,
   "metadata": {},
   "outputs": [
    {
     "name": "stdout",
     "output_type": "stream",
     "text": [
      "110    SL\n",
      "214    NO\n",
      "211    NO\n",
      "156    SL\n",
      "73     SL\n",
      "       ..\n",
      "41     DH\n",
      "63     SL\n",
      "78     SL\n",
      "194    SL\n",
      "184    SL\n",
      "Name: class, Length: 92, dtype: object\n"
     ]
    }
   ],
   "source": [
    "feature_cols = ['pelvic_incidence','pelvic_tilt','lumbar_lordosis_angle','sacral_slope','pelvic_radius','degree_spondylolisthesis']\n",
    "X = testSet[feature_cols] # Features\n",
    "y = testSet['class']#class\n",
    "Xp=evaluateSet[feature_cols]# preFeatures\n",
    "yp=evaluateSet['class']# preClass"
   ]
  },
  {
   "cell_type": "code",
   "execution_count": 28,
   "metadata": {},
   "outputs": [
    {
     "name": "stdout",
     "output_type": "stream",
     "text": [
      "Accuracy: 0.7741935483870968\n"
     ]
    },
    {
     "data": {
      "text/plain": [
       "'Source.gv.pdf'"
      ]
     },
     "execution_count": 28,
     "metadata": {},
     "output_type": "execute_result"
    }
   ],
   "source": [
    "clf = DecisionTreeClassifier(max_depth=3,criterion='entropy')#tree control\n",
    "clf = clf.fit(X,y)\n",
    "y_pred = clf.predict(Xp)\n",
    "print(\"Accuracy:\",metrics.accuracy_score(yp, y_pred))\n",
    "dot_data = tree.export_graphviz(clf, out_file=None, \n",
    "                      feature_names=feature_cols,  \n",
    "                      class_names=clf.classes_,  \n",
    "                      filled=True, rounded=True,  \n",
    "                      special_characters=True)  \n",
    "graph = graphviz.Source(dot_data)\n",
    "graph.render()\n",
    "\n"
   ]
  },
  {
   "cell_type": "code",
   "execution_count": 65,
   "metadata": {},
   "outputs": [
    {
     "name": "stdout",
     "output_type": "stream",
     "text": [
      "<class 'pandas.core.frame.DataFrame'>\n",
      "Int64Index: 154 entries, 92 to 259\n",
      "Data columns (total 6 columns):\n",
      "pelvic_incidence            154 non-null float64\n",
      "pelvic_tilt                 154 non-null float64\n",
      "lumbar_lordosis_angle       154 non-null float64\n",
      "sacral_slope                154 non-null float64\n",
      "pelvic_radius               154 non-null float64\n",
      "degree_spondylolisthesis    154 non-null float64\n",
      "dtypes: float64(6)\n",
      "memory usage: 8.4 KB\n"
     ]
    }
   ],
   "source": []
  },
  {
   "cell_type": "code",
   "execution_count": null,
   "metadata": {},
   "outputs": [],
   "source": []
  }
 ],
 "metadata": {
  "kernelspec": {
   "display_name": "Python 3",
   "language": "python",
   "name": "python3"
  },
  "language_info": {
   "codemirror_mode": {
    "name": "ipython",
    "version": 3
   },
   "file_extension": ".py",
   "mimetype": "text/x-python",
   "name": "python",
   "nbconvert_exporter": "python",
   "pygments_lexer": "ipython3",
   "version": "3.7.4"
  }
 },
 "nbformat": 4,
 "nbformat_minor": 2
}
