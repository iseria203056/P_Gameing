{
 "cells": [
  {
   "cell_type": "code",
   "execution_count": 160,
   "metadata": {},
   "outputs": [],
   "source": [
    "import pandas\n",
    "import numpy as np\n",
    "from sklearn import tree\n",
    "from sklearn.tree import DecisionTreeClassifier\n",
    "import matplotlib.pyplot as plt\n",
    "import matplotlib.image as pltimg\n",
    "import pydotplus \n",
    "from IPython.display import Image\n",
    "from sklearn import metrics\n",
    "import graphviz \n",
    "from sklearn.metrics import confusion_matrix\n",
    "import pickle"
   ]
  },
  {
   "cell_type": "code",
   "execution_count": 68,
   "metadata": {
    "scrolled": false
   },
   "outputs": [
    {
     "name": "stdout",
     "output_type": "stream",
     "text": [
      "<class 'pandas.core.frame.DataFrame'>\n",
      "RangeIndex: 309 entries, 0 to 308\n",
      "Data columns (total 7 columns):\n",
      "63.03    309 non-null float64\n",
      "22.55    309 non-null float64\n",
      "39.61    309 non-null float64\n",
      "40.48    309 non-null float64\n",
      "98.67    309 non-null float64\n",
      "-0.25    309 non-null float64\n",
      "DH       309 non-null object\n",
      "dtypes: float64(6), object(1)\n",
      "memory usage: 17.0+ KB\n"
     ]
    }
   ],
   "source": [
    "df=pandas.read_csv(\"column_3C.dat\",sep=' ',header=0)\n",
    "df.info()"
   ]
  },
  {
   "cell_type": "code",
   "execution_count": 69,
   "metadata": {},
   "outputs": [],
   "source": [
    "df.columns=['pelvic_incidence','pelvic_tilt','lumbar_lordosis_angle','sacral_slope','pelvic_radius','degree_spondylolisthesis','class']"
   ]
  },
  {
   "cell_type": "code",
   "execution_count": 70,
   "metadata": {
    "scrolled": true
   },
   "outputs": [
    {
     "name": "stdout",
     "output_type": "stream",
     "text": [
      "     pelvic_incidence  pelvic_tilt  lumbar_lordosis_angle  sacral_slope  \\\n",
      "116             86.04        38.75                  47.87         47.29   \n",
      "13              57.30        24.19                  47.00         33.11   \n",
      "23              36.13        22.76                  29.00         13.37   \n",
      "40              46.44         8.40                  29.04         38.05   \n",
      "247             47.32         8.57                  35.56         38.75   \n",
      "..                ...          ...                    ...           ...   \n",
      "268             37.14        16.48                  24.00         20.66   \n",
      "0               39.06        10.06                  25.02         29.00   \n",
      "211             44.36         8.95                  46.90         35.42   \n",
      "169             64.81        15.17                  58.84         49.64   \n",
      "293             46.24        10.06                  37.00         36.17   \n",
      "\n",
      "     pelvic_radius  degree_spondylolisthesis class  \n",
      "116         122.09                     61.99    SL  \n",
      "13          116.81                      5.77    DH  \n",
      "23          115.58                     -3.24    DH  \n",
      "40          115.48                      2.05    DH  \n",
      "247         120.58                      1.63    NO  \n",
      "..             ...                       ...   ...  \n",
      "268         125.01                      7.37    NO  \n",
      "0           114.41                      4.56    DH  \n",
      "211         129.22                      4.99    NO  \n",
      "169         111.68                     21.41    SL  \n",
      "293         128.06                     -5.10    NO  \n",
      "\n",
      "[309 rows x 7 columns]\n"
     ]
    }
   ],
   "source": [
    "df=df.sample(frac=1)\n",
    "print(df)"
   ]
  },
  {
   "cell_type": "code",
   "execution_count": 283,
   "metadata": {
    "scrolled": false
   },
   "outputs": [
    {
     "name": "stdout",
     "output_type": "stream",
     "text": [
      "     pelvic_incidence  pelvic_tilt  lumbar_lordosis_angle  sacral_slope  \\\n",
      "116             86.04        38.75                  47.87         47.29   \n",
      "13              57.30        24.19                  47.00         33.11   \n",
      "23              36.13        22.76                  29.00         13.37   \n",
      "40              46.44         8.40                  29.04         38.05   \n",
      "247             47.32         8.57                  35.56         38.75   \n",
      "..                ...          ...                    ...           ...   \n",
      "144             85.64        42.69                  78.75         42.95   \n",
      "273             43.19         9.98                  28.94         33.22   \n",
      "210             54.92        18.97                  51.60         35.95   \n",
      "295             39.66        16.21                  36.67         23.45   \n",
      "200             67.51        33.28                  96.28         34.24   \n",
      "\n",
      "     pelvic_radius  degree_spondylolisthesis class  \n",
      "116         122.09                     61.99    SL  \n",
      "13          116.81                      5.77    DH  \n",
      "23          115.58                     -3.24    DH  \n",
      "40          115.48                      2.05    DH  \n",
      "247         120.58                      1.63    NO  \n",
      "..             ...                       ...   ...  \n",
      "144         105.14                     42.89    SL  \n",
      "273         123.47                      1.74    NO  \n",
      "210         125.85                      2.00    NO  \n",
      "295         131.92                     -4.97    NO  \n",
      "200         145.60                     88.30    SL  \n",
      "\n",
      "[123 rows x 7 columns]\n",
      "     pelvic_incidence  pelvic_tilt  lumbar_lordosis_angle  sacral_slope  \\\n",
      "158             64.27        12.51                  68.70         51.77   \n",
      "138             85.10        21.07                  91.73         64.03   \n",
      "35              32.09         6.99                  36.00         25.10   \n",
      "267             57.15        16.49                  42.84         40.66   \n",
      "60              89.68        32.70                  83.13         56.98   \n",
      "..                ...          ...                    ...           ...   \n",
      "268             37.14        16.48                  24.00         20.66   \n",
      "0               39.06        10.06                  25.02         29.00   \n",
      "211             44.36         8.95                  46.90         35.42   \n",
      "169             64.81        15.17                  58.84         49.64   \n",
      "293             46.24        10.06                  37.00         36.17   \n",
      "\n",
      "     pelvic_radius  degree_spondylolisthesis class  \n",
      "158          95.25                     39.41    SL  \n",
      "138         109.06                     38.03    SL  \n",
      "35          132.26                      6.41    DH  \n",
      "267         113.81                      5.02    NO  \n",
      "60          129.96                     92.03    SL  \n",
      "..             ...                       ...   ...  \n",
      "268         125.01                      7.37    NO  \n",
      "0           114.41                      4.56    DH  \n",
      "211         129.22                      4.99    NO  \n",
      "169         111.68                     21.41    SL  \n",
      "293         128.06                     -5.10    NO  \n",
      "\n",
      "[186 rows x 7 columns]\n"
     ]
    }
   ],
   "source": [
    "testSet,evaluateSet=np.split(df,[int(.4*len(df.index))])\n",
    "print(testSet)\n",
    "print(evaluateSet)"
   ]
  },
  {
   "cell_type": "code",
   "execution_count": 284,
   "metadata": {},
   "outputs": [],
   "source": [
    "feature_cols = ['pelvic_incidence','pelvic_tilt','lumbar_lordosis_angle','sacral_slope','pelvic_radius','degree_spondylolisthesis']\n",
    "X = testSet[feature_cols] # Features\n",
    "y = testSet['class']#class\n",
    "#evaluateSet=evaluateSet[evaluateSet['class'] != 'SL']\n",
    "#evaluateSet=evaluateSet[evaluateSet['degree_spondylolisthesis'] <= 21.445]\n",
    "#evaluateSet=evaluateSet[evaluateSet['pelvic_radius'] > 119.505]\n",
    "#evaluateSet=evaluateSet[evaluateSet['sacral_slope'] > 28.45]\n",
    "Xp=evaluateSet[feature_cols]# preFeatures\n",
    "yp=evaluateSet['class']# preClass"
   ]
  },
  {
   "cell_type": "code",
   "execution_count": 285,
   "metadata": {},
   "outputs": [
    {
     "name": "stdout",
     "output_type": "stream",
     "text": [
      "Accuracy: 0.8333333333333334\n"
     ]
    },
    {
     "data": {
      "text/plain": [
       "'Source.gv.pdf'"
      ]
     },
     "execution_count": 285,
     "metadata": {},
     "output_type": "execute_result"
    }
   ],
   "source": [
    "clf = DecisionTreeClassifier(max_depth=3,criterion='entropy',min_samples_leaf=10)#tree control\n",
    "clf = clf.fit(X,y)\n",
    "y_pred = clf.predict(Xp)\n",
    "print(\"Accuracy:\",metrics.accuracy_score(yp, y_pred))\n",
    "dot_data = tree.export_graphviz(clf, out_file=None, \n",
    "                      feature_names=feature_cols,  \n",
    "                      class_names=clf.classes_,  \n",
    "                      filled=True, rounded=True,  \n",
    "                      special_characters=True)  \n",
    "graph = graphviz.Source(dot_data)\n",
    "graph.render()\n",
    "\n"
   ]
  },
  {
   "cell_type": "code",
   "execution_count": 286,
   "metadata": {
    "scrolled": true
   },
   "outputs": [
    {
     "name": "stdout",
     "output_type": "stream",
     "text": [
      "['DH' 'NO' 'SL']\n",
      "[[22  9  0]\n",
      " [12 40  2]\n",
      " [ 1  7 93]]\n"
     ]
    }
   ],
   "source": [
    "print(clf.classes_)\n",
    "print(confusion_matrix(yp,y_pred))"
   ]
  },
  {
   "cell_type": "code",
   "execution_count": 287,
   "metadata": {},
   "outputs": [
    {
     "name": "stdout",
     "output_type": "stream",
     "text": [
      "[[[28. 46. 49.]]\n",
      "\n",
      " [[28. 46.  2.]]\n",
      "\n",
      " [[19. 11.  2.]]\n",
      "\n",
      " [[17.  5.  0.]]\n",
      "\n",
      " [[ 2.  6.  2.]]\n",
      "\n",
      " [[ 9. 35.  0.]]\n",
      "\n",
      " [[ 7.  5.  0.]]\n",
      "\n",
      " [[ 2. 30.  0.]]\n",
      "\n",
      " [[ 0.  0. 47.]]]\n"
     ]
    }
   ],
   "source": [
    "print(clf.tree_.value)"
   ]
  },
  {
   "cell_type": "code",
   "execution_count": 288,
   "metadata": {
    "scrolled": false
   },
   "outputs": [
    {
     "name": "stdout",
     "output_type": "stream",
     "text": [
      "158     95.25\n",
      "138    109.06\n",
      "35     132.26\n",
      "267    113.81\n",
      "60     129.96\n",
      "        ...  \n",
      "268    125.01\n",
      "0      114.41\n",
      "211    129.22\n",
      "169    111.68\n",
      "293    128.06\n",
      "Name: pelvic_radius, Length: 186, dtype: float64\n",
      "158    SL\n",
      "138    SL\n",
      "35     DH\n",
      "267    NO\n",
      "60     SL\n",
      "       ..\n",
      "268    NO\n",
      "0      DH\n",
      "211    NO\n",
      "169    SL\n",
      "293    NO\n",
      "Name: class, Length: 186, dtype: object\n",
      "[[1 0 0 0 0 0 0 0 1]\n",
      " [1 0 0 0 0 0 0 0 1]\n",
      " [1 1 0 0 0 1 1 0 0]\n",
      " [1 1 1 0 1 0 0 0 0]\n",
      " [1 0 0 0 0 0 0 0 1]\n",
      " [1 0 0 0 0 0 0 0 1]\n",
      " [1 0 0 0 0 0 0 0 1]\n",
      " [1 0 0 0 0 0 0 0 1]\n",
      " [1 1 0 0 0 1 0 1 0]\n",
      " [1 0 0 0 0 0 0 0 1]\n",
      " [1 0 0 0 0 0 0 0 1]\n",
      " [1 0 0 0 0 0 0 0 1]\n",
      " [1 1 1 1 0 0 0 0 0]\n",
      " [1 0 0 0 0 0 0 0 1]\n",
      " [1 0 0 0 0 0 0 0 1]\n",
      " [1 0 0 0 0 0 0 0 1]\n",
      " [1 1 1 1 0 0 0 0 0]\n",
      " [1 1 1 1 0 0 0 0 0]\n",
      " [1 0 0 0 0 0 0 0 1]\n",
      " [1 0 0 0 0 0 0 0 1]\n",
      " [1 0 0 0 0 0 0 0 1]\n",
      " [1 0 0 0 0 0 0 0 1]\n",
      " [1 0 0 0 0 0 0 0 1]\n",
      " [1 0 0 0 0 0 0 0 1]\n",
      " [1 0 0 0 0 0 0 0 1]\n",
      " [1 0 0 0 0 0 0 0 1]\n",
      " [1 0 0 0 0 0 0 0 1]\n",
      " [1 1 1 0 1 0 0 0 0]\n",
      " [1 0 0 0 0 0 0 0 1]\n",
      " [1 1 1 1 0 0 0 0 0]\n",
      " [1 0 0 0 0 0 0 0 1]\n",
      " [1 0 0 0 0 0 0 0 1]\n",
      " [1 1 0 0 0 1 0 1 0]\n",
      " [1 0 0 0 0 0 0 0 1]\n",
      " [1 0 0 0 0 0 0 0 1]\n",
      " [1 1 0 0 0 1 0 1 0]\n",
      " [1 1 1 0 1 0 0 0 0]\n",
      " [1 0 0 0 0 0 0 0 1]\n",
      " [1 1 0 0 0 1 0 1 0]\n",
      " [1 0 0 0 0 0 0 0 1]\n",
      " [1 0 0 0 0 0 0 0 1]\n",
      " [1 0 0 0 0 0 0 0 1]\n",
      " [1 1 1 0 1 0 0 0 0]\n",
      " [1 1 0 0 0 1 0 1 0]\n",
      " [1 1 1 0 1 0 0 0 0]\n",
      " [1 0 0 0 0 0 0 0 1]\n",
      " [1 0 0 0 0 0 0 0 1]\n",
      " [1 1 0 0 0 1 1 0 0]\n",
      " [1 0 0 0 0 0 0 0 1]\n",
      " [1 1 0 0 0 1 0 1 0]\n",
      " [1 1 0 0 0 1 0 1 0]\n",
      " [1 1 0 0 0 1 0 1 0]\n",
      " [1 1 0 0 0 1 0 1 0]\n",
      " [1 0 0 0 0 0 0 0 1]\n",
      " [1 1 1 0 1 0 0 0 0]\n",
      " [1 1 1 1 0 0 0 0 0]\n",
      " [1 1 0 0 0 1 0 1 0]\n",
      " [1 0 0 0 0 0 0 0 1]\n",
      " [1 1 1 1 0 0 0 0 0]\n",
      " [1 1 0 0 0 1 0 1 0]\n",
      " [1 0 0 0 0 0 0 0 1]\n",
      " [1 0 0 0 0 0 0 0 1]\n",
      " [1 1 1 0 1 0 0 0 0]\n",
      " [1 0 0 0 0 0 0 0 1]\n",
      " [1 0 0 0 0 0 0 0 1]\n",
      " [1 0 0 0 0 0 0 0 1]\n",
      " [1 0 0 0 0 0 0 0 1]\n",
      " [1 1 0 0 0 1 1 0 0]\n",
      " [1 0 0 0 0 0 0 0 1]\n",
      " [1 1 0 0 0 1 0 1 0]\n",
      " [1 1 1 0 1 0 0 0 0]\n",
      " [1 0 0 0 0 0 0 0 1]\n",
      " [1 1 0 0 0 1 1 0 0]\n",
      " [1 1 1 1 0 0 0 0 0]\n",
      " [1 0 0 0 0 0 0 0 1]\n",
      " [1 1 1 1 0 0 0 0 0]\n",
      " [1 0 0 0 0 0 0 0 1]\n",
      " [1 1 0 0 0 1 0 1 0]\n",
      " [1 0 0 0 0 0 0 0 1]\n",
      " [1 0 0 0 0 0 0 0 1]\n",
      " [1 1 1 0 1 0 0 0 0]\n",
      " [1 1 0 0 0 1 0 1 0]\n",
      " [1 0 0 0 0 0 0 0 1]\n",
      " [1 0 0 0 0 0 0 0 1]\n",
      " [1 1 0 0 0 1 0 1 0]\n",
      " [1 0 0 0 0 0 0 0 1]\n",
      " [1 0 0 0 0 0 0 0 1]\n",
      " [1 0 0 0 0 0 0 0 1]\n",
      " [1 1 0 0 0 1 0 1 0]\n",
      " [1 0 0 0 0 0 0 0 1]\n",
      " [1 0 0 0 0 0 0 0 1]\n",
      " [1 1 0 0 0 1 0 1 0]\n",
      " [1 1 0 0 0 1 0 1 0]\n",
      " [1 1 0 0 0 1 0 1 0]\n",
      " [1 0 0 0 0 0 0 0 1]\n",
      " [1 0 0 0 0 0 0 0 1]\n",
      " [1 1 0 0 0 1 0 1 0]\n",
      " [1 1 0 0 0 1 0 1 0]\n",
      " [1 1 1 0 1 0 0 0 0]\n",
      " [1 1 1 1 0 0 0 0 0]\n",
      " [1 0 0 0 0 0 0 0 1]\n",
      " [1 1 1 0 1 0 0 0 0]\n",
      " [1 1 1 1 0 0 0 0 0]\n",
      " [1 0 0 0 0 0 0 0 1]\n",
      " [1 0 0 0 0 0 0 0 1]\n",
      " [1 1 1 0 1 0 0 0 0]\n",
      " [1 0 0 0 0 0 0 0 1]\n",
      " [1 0 0 0 0 0 0 0 1]\n",
      " [1 0 0 0 0 0 0 0 1]\n",
      " [1 1 0 0 0 1 0 1 0]\n",
      " [1 1 0 0 0 1 0 1 0]\n",
      " [1 1 0 0 0 1 0 1 0]\n",
      " [1 0 0 0 0 0 0 0 1]\n",
      " [1 1 0 0 0 1 0 1 0]\n",
      " [1 0 0 0 0 0 0 0 1]\n",
      " [1 1 0 0 0 1 0 1 0]\n",
      " [1 1 1 1 0 0 0 0 0]\n",
      " [1 1 0 0 0 1 1 0 0]\n",
      " [1 1 1 1 0 0 0 0 0]\n",
      " [1 0 0 0 0 0 0 0 1]\n",
      " [1 0 0 0 0 0 0 0 1]\n",
      " [1 0 0 0 0 0 0 0 1]\n",
      " [1 0 0 0 0 0 0 0 1]\n",
      " [1 1 1 1 0 0 0 0 0]\n",
      " [1 1 1 0 1 0 0 0 0]\n",
      " [1 1 1 0 1 0 0 0 0]\n",
      " [1 1 1 1 0 0 0 0 0]\n",
      " [1 0 0 0 0 0 0 0 1]\n",
      " [1 0 0 0 0 0 0 0 1]\n",
      " [1 1 1 0 1 0 0 0 0]\n",
      " [1 1 1 1 0 0 0 0 0]\n",
      " [1 0 0 0 0 0 0 0 1]\n",
      " [1 1 1 1 0 0 0 0 0]\n",
      " [1 1 1 0 1 0 0 0 0]\n",
      " [1 1 1 1 0 0 0 0 0]\n",
      " [1 0 0 0 0 0 0 0 1]\n",
      " [1 1 0 0 0 1 0 1 0]\n",
      " [1 0 0 0 0 0 0 0 1]\n",
      " [1 1 0 0 0 1 0 1 0]\n",
      " [1 0 0 0 0 0 0 0 1]\n",
      " [1 1 0 0 0 1 0 1 0]\n",
      " [1 1 0 0 0 1 0 1 0]\n",
      " [1 1 1 0 1 0 0 0 0]\n",
      " [1 0 0 0 0 0 0 0 1]\n",
      " [1 1 0 0 0 1 0 1 0]\n",
      " [1 1 1 1 0 0 0 0 0]\n",
      " [1 1 1 0 1 0 0 0 0]\n",
      " [1 0 0 0 0 0 0 0 1]\n",
      " [1 0 0 0 0 0 0 0 1]\n",
      " [1 0 0 0 0 0 0 0 1]\n",
      " [1 0 0 0 0 0 0 0 1]\n",
      " [1 0 0 0 0 0 0 0 1]\n",
      " [1 0 0 0 0 0 0 0 1]\n",
      " [1 1 1 1 0 0 0 0 0]\n",
      " [1 0 0 0 0 0 0 0 1]\n",
      " [1 0 0 0 0 0 0 0 1]\n",
      " [1 1 1 1 0 0 0 0 0]\n",
      " [1 0 0 0 0 0 0 0 1]\n",
      " [1 1 0 0 0 1 0 1 0]\n",
      " [1 0 0 0 0 0 0 0 1]\n",
      " [1 1 1 1 0 0 0 0 0]\n",
      " [1 1 1 1 0 0 0 0 0]\n",
      " [1 0 0 0 0 0 0 0 1]\n",
      " [1 0 0 0 0 0 0 0 1]\n",
      " [1 1 1 1 0 0 0 0 0]\n",
      " [1 0 0 0 0 0 0 0 1]\n",
      " [1 1 0 0 0 1 0 1 0]\n",
      " [1 0 0 0 0 0 0 0 1]\n",
      " [1 0 0 0 0 0 0 0 1]\n",
      " [1 0 0 0 0 0 0 0 1]\n",
      " [1 1 0 0 0 1 0 1 0]\n",
      " [1 0 0 0 0 0 0 0 1]\n",
      " [1 1 1 1 0 0 0 0 0]\n",
      " [1 1 0 0 0 1 1 0 0]\n",
      " [1 1 0 0 0 1 1 0 0]\n",
      " [1 0 0 0 0 0 0 0 1]\n",
      " [1 0 0 0 0 0 0 0 1]\n",
      " [1 1 0 0 0 1 0 1 0]\n",
      " [1 1 0 0 0 1 1 0 0]\n",
      " [1 0 0 0 0 0 0 0 1]\n",
      " [1 1 0 0 0 1 1 0 0]\n",
      " [1 1 0 0 0 1 1 0 0]\n",
      " [1 1 1 1 0 0 0 0 0]\n",
      " [1 1 0 0 0 1 0 1 0]\n",
      " [1 1 1 0 1 0 0 0 0]\n",
      " [1 1 0 0 0 1 0 1 0]]\n"
     ]
    }
   ],
   "source": [
    "np.set_printoptions(threshold=np.inf)\n",
    "temp=clf.decision_path(Xp).todense()\n",
    "print(Xp['pelvic_radius'])\n",
    "print(yp)\n",
    "print(temp)"
   ]
  },
  {
   "cell_type": "code",
   "execution_count": null,
   "metadata": {},
   "outputs": [],
   "source": []
  },
  {
   "cell_type": "code",
   "execution_count": null,
   "metadata": {},
   "outputs": [],
   "source": []
  }
 ],
 "metadata": {
  "kernelspec": {
   "display_name": "Python 3",
   "language": "python",
   "name": "python3"
  },
  "language_info": {
   "codemirror_mode": {
    "name": "ipython",
    "version": 3
   },
   "file_extension": ".py",
   "mimetype": "text/x-python",
   "name": "python",
   "nbconvert_exporter": "python",
   "pygments_lexer": "ipython3",
   "version": "3.7.4"
  }
 },
 "nbformat": 4,
 "nbformat_minor": 2
}
