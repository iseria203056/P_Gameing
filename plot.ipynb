{
 "cells": [
  {
   "cell_type": "code",
   "execution_count": 1,
   "metadata": {},
   "outputs": [],
   "source": [
    "import open3d as o3d\n",
    "import numpy as np\n",
    "from scipy import signal"
   ]
  },
  {
   "cell_type": "code",
   "execution_count": 2,
   "metadata": {},
   "outputs": [],
   "source": [
    "origin = o3d.geometry.PointCloud()\n",
    "origin.points = o3d.utility.Vector3dVector(np.zeros((1,3)))\n",
    "threshold = 0.2\n",
    "init = np.asarray([[1,0,0,0],[0,1,0,0],[0,0,1,0],[0,0,0,1]])"
   ]
  },
  {
   "cell_type": "code",
   "execution_count": 3,
   "metadata": {},
   "outputs": [],
   "source": [
    "dst = o3d.io.read_point_cloud(\"dst.pcd\")\n",
    "src = o3d.io.read_point_cloud(\"src.pcd\")\n",
    "src_o = o3d.io.read_point_cloud(\"src.pcd\")"
   ]
  },
  {
   "cell_type": "code",
   "execution_count": 4,
   "metadata": {},
   "outputs": [],
   "source": [
    "reg_15 = o3d.registration.registration_icp(\n",
    "        src, dst, threshold, init,\n",
    "        o3d.registration.TransformationEstimationPointToPoint(),\n",
    "        o3d.registration.ICPConvergenceCriteria(max_iteration = 15))"
   ]
  },
  {
   "cell_type": "code",
   "execution_count": 5,
   "metadata": {},
   "outputs": [
    {
     "data": {
      "text/plain": [
       "geometry::PointCloud with 2271 points."
      ]
     },
     "execution_count": 5,
     "metadata": {},
     "output_type": "execute_result"
    }
   ],
   "source": [
    "test = np.zeros((4,4))\n",
    "test[3,3] = 1\n",
    "test[0:3,0:3] = reg_15.transformation[0:3,0:3]\n",
    "src.transform(reg_15.transformation)"
   ]
  },
  {
   "cell_type": "code",
   "execution_count": null,
   "metadata": {},
   "outputs": [],
   "source": [
    "src.paint_uniform_color([1, 0, 0])\n",
    "dst.paint_uniform_color([0, 1, 0])\n",
    "src_o.paint_uniform_color([0, 0, 1])\n",
    "o3d.visualization.draw_geometries([src, origin, dst, src_o])"
   ]
  }
 ],
 "metadata": {
  "kernelspec": {
   "display_name": "Python 3",
   "language": "python",
   "name": "python3"
  },
  "language_info": {
   "codemirror_mode": {
    "name": "ipython",
    "version": 3
   },
   "file_extension": ".py",
   "mimetype": "text/x-python",
   "name": "python",
   "nbconvert_exporter": "python",
   "pygments_lexer": "ipython3",
   "version": "3.7.4"
  }
 },
 "nbformat": 4,
 "nbformat_minor": 2
}
